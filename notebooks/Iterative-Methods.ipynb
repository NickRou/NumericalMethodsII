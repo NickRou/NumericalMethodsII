{
 "cells": [
  {
   "cell_type": "code",
   "execution_count": 60,
   "metadata": {},
   "outputs": [],
   "source": [
    "\"\"\"\n",
    "Q1: For which of these matrices (A1, A2) does the jacobi iteration and Gauss-Siedel method converge?\n",
    "\"\"\"\n",
    "import numpy as np\n",
    "from scipy.linalg import inv, lu\n",
    "from math import sqrt, cos, pi"
   ]
  },
  {
   "cell_type": "code",
   "execution_count": 8,
   "metadata": {},
   "outputs": [],
   "source": [
    "A1 = [[2,-1,2],[1,2,-2],[2,2,2]]\n",
    "A2 = [[5,5,0],[-1,5,4],[2,3,8]]"
   ]
  },
  {
   "cell_type": "code",
   "execution_count": 24,
   "metadata": {},
   "outputs": [],
   "source": [
    "\"\"\"\n",
    "Convergence Tests: Every eigenvalue of M=I-P^-1A must have |eigen(M)| < 1\n",
    "Jacobi Iteration: P = diagonal part D of A\n",
    "Gauss-Siedel: P = Lower Triangular part of A\n",
    "\"\"\"\n",
    "def jacobiConvergence(A):\n",
    "    m, n = len(A), len(A[0])\n",
    "    \n",
    "    #constuct Diagonal and Identity matrix\n",
    "    D = [[0 for x in range(n)] for y in range(m)]\n",
    "    I = [[0 for x in range(n)] for y in range(m)]\n",
    "    for x in range(m):\n",
    "        D[x][x] = A[x][x]\n",
    "        I[x][x] = 1\n",
    "        \n",
    "    #turn into numpy arrays\n",
    "    A = np.array(A)\n",
    "    D = np.array(D)\n",
    "    I = np.array(I)\n",
    "    \n",
    "    M = I - (inv(D).dot(A))\n",
    "    \n",
    "    w, v = np.linalg.eig(M)\n",
    "    \n",
    "    for eigen_val in w: \n",
    "        if (abs(eigen_val) >= 1):\n",
    "            print(\"Does not converge\")\n",
    "            return\n",
    "    print(\"Converges\")\n",
    "\n",
    "def guasssiedelConvergence(A):\n",
    "    m, n = len(A), len(A[0])\n",
    "    \n",
    "    #construct L and Identity matrix\n",
    "    P, L, U = lu(A)\n",
    "    I = [[0 for x in range(n)] for y in range(m)]\n",
    "    for x in range(m):\n",
    "        I[x][x] = 1\n",
    "        \n",
    "    M = I - (inv(L).dot(A))\n",
    "    \n",
    "    w, v = np.linalg.eig(M)\n",
    "    \n",
    "    for eigen_val in w: \n",
    "        if (abs(eigen_val) >= 1):\n",
    "            print(\"Does not converge\")\n",
    "            return\n",
    "    print(\"Converges\")"
   ]
  },
  {
   "cell_type": "code",
   "execution_count": 25,
   "metadata": {},
   "outputs": [
    {
     "name": "stdout",
     "output_type": "stream",
     "text": [
      "Testing Matrix A1\n",
      "Jacobi Iteration\n",
      "Does not converge\n",
      "Gauss-Siedel\n",
      "Does not converge\n",
      "\n",
      "\n",
      "Testing Matrix A2\n",
      "Jacobi Iteration\n",
      "Converges\n",
      "Gauss-Siedel\n",
      "Does not converge\n"
     ]
    }
   ],
   "source": [
    "print(\"Testing Matrix A1\")\n",
    "print(\"Jacobi Iteration\")\n",
    "jacobiConvergence(A1)\n",
    "print(\"Gauss-Siedel\")\n",
    "guasssiedelConvergence(A1)\n",
    "print(\"\\n\")\n",
    "print(\"Testing Matrix A2\")\n",
    "print(\"Jacobi Iteration\")\n",
    "jacobiConvergence(A2)\n",
    "print(\"Gauss-Siedel\")\n",
    "guasssiedelConvergence(A2)"
   ]
  },
  {
   "cell_type": "code",
   "execution_count": 65,
   "metadata": {},
   "outputs": [],
   "source": [
    "\"\"\"\n",
    "QII: Consider two different fixed-pt iterations to compute the inverse of a regular matrix A(nxn)\n",
    "     starting from an initial value X(0)\n",
    "     (1) X^k = X^k-1(I-AC)+C, k=1,2....\n",
    "     (2) X^k = X^k-1(2I-AX^k-1)\n",
    "\"\"\"\n",
    "A = np.array([[1,2,3],[4,5,6],[7,8,10]])\n",
    "C = np.array([[-0.5,-1.5,1],[-0.5,3.7,-2],[1,-2,1]])\n",
    "I = [[0 for x in range(3)] for y in range(3)]\n",
    "for x in range(m):\n",
    "    I[x][x] = 1\n",
    "I = np.array(I)"
   ]
  },
  {
   "cell_type": "code",
   "execution_count": 67,
   "metadata": {},
   "outputs": [
    {
     "name": "stdout",
     "output_type": "stream",
     "text": [
      "Does not converge\n"
     ]
    }
   ],
   "source": [
    "\"\"\"\n",
    "(a) What are sufficient conditions for convergence for these iterations?\n",
    "    What convergence order do you expect?\n",
    "    \n",
    "converges for any initial value X0 iff max|eigen value| < 1\n",
    "r = spr(I-C^-1A)\n",
    "convergence order is linear ||x^k+1-x|| <= r ||x^k - x||\n",
    "\"\"\"\n",
    "def testConvergence():\n",
    "    matrix = I-(inv(C).dot(A))\n",
    "    w, v = np.linalg.eig(matrix)\n",
    "    for eigen_val in w: \n",
    "        if (abs(eigen_val) >= 1):\n",
    "            print(\"Does not converge\")\n",
    "            return\n",
    "    print(\"Converges\") \n",
    "\n",
    "testConvergence()"
   ]
  },
  {
   "cell_type": "code",
   "execution_count": 62,
   "metadata": {},
   "outputs": [],
   "source": [
    "\"\"\"\n",
    "(b) X^0 = I and X^0 = C\n",
    "\"\"\"\n",
    "def fixedPtIterations(A, C):    \n",
    "    print(\"Inverse of A\")\n",
    "    print(inv(A))\n",
    "    print(\"\\n\")\n",
    "\n",
    "\n",
    "    def iterate(X0, start, end):\n",
    "        print(\"Fixed-point iteration: X^k = X^k-1(I-AC)+C\")\n",
    "        X = X0\n",
    "        k = start\n",
    "        while (k <= end):\n",
    "            X = X.dot((I-A.dot(C))) + C\n",
    "            k += 1\n",
    "        print(X)\n",
    "        \n",
    "        print(\"Fixed-point iteration: X^k = X^k-1(2I-AX^k-1)\")\n",
    "        X = X0\n",
    "        k = start\n",
    "        while (k <= end):\n",
    "            X = X.dot((2*I)-(A.dot(X)))\n",
    "            k += 1\n",
    "        print(X)\n",
    "    \n",
    "    #testing with initial value X0 = I\n",
    "    print(\"Initial value X0 = I\")\n",
    "    iterate(I, 1, 100)\n",
    "    print(\"\\n\")\n",
    "    #testing with initial value X0 = C\n",
    "    print(\"Initial value X0 = C\")\n",
    "    iterate(C, 1, 100)"
   ]
  },
  {
   "cell_type": "code",
   "execution_count": 63,
   "metadata": {},
   "outputs": [
    {
     "name": "stdout",
     "output_type": "stream",
     "text": [
      "Inverse of A\n",
      "[[-0.66666667 -1.33333333  1.        ]\n",
      " [-0.66666667  3.66666667 -2.        ]\n",
      " [ 1.         -2.          1.        ]]\n",
      "\n",
      "\n",
      "Initial value X0 = I\n",
      "Fixed-point iteration: X^k = X^k-1(I-AC)+C\n",
      "[[-0.66666667 -1.33333333  1.        ]\n",
      " [-0.66666667  3.66666667 -2.        ]\n",
      " [ 1.         -2.          1.        ]]\n",
      "Fixed-point iteration: X^k = X^k-1(2I-AX^k-1)\n",
      "[[ 8843455372529952213 -3452570626832749044 -5898025103523347754]\n",
      " [-7384587362514980880 -8963119298963511455  7609586084361821692]\n",
      " [ 5004316238054728718  3837384718296084120 -8530989198807102521]]\n",
      "\n",
      "\n",
      "Initial value X0 = C\n",
      "Fixed-point iteration: X^k = X^k-1(I-AC)+C\n",
      "[[-0.66666667 -1.33333333  1.        ]\n",
      " [-0.66666667  3.66666667 -2.        ]\n",
      " [ 1.         -2.          1.        ]]\n",
      "Fixed-point iteration: X^k = X^k-1(2I-AX^k-1)\n",
      "[[-0.66666667 -1.33333333  1.        ]\n",
      " [-0.66666667  3.66666667 -2.        ]\n",
      " [ 1.         -2.          1.        ]]\n"
     ]
    }
   ],
   "source": [
    "fixedPtIterations(A, C)"
   ]
  },
  {
   "cell_type": "code",
   "execution_count": 2,
   "metadata": {},
   "outputs": [],
   "source": [
    "\"\"\"\n",
    "QIII: Consider the m-dependent matrix A. Solve the system Ax=b with\n",
    "      (a) Jacobi Method\n",
    "      (b) Gauss-Siedel Method\n",
    "      (c) SOR method\n",
    "      Use m = 2^k, k=1,..,6\n",
    "      Stopping criterion use ||b-Ax^k||inf <= 10^-8||x^k||inf or k >= 20000\n",
    "      Use given relaxation parameter for the SOR method\n",
    "\"\"\"\n",
    "def createMatrixA(m):\n",
    "    n = m * m \n",
    "    A = [[0 for x in range(n)] for y in range(n)]\n",
    "    i = 0\n",
    "    while i < n:\n",
    "        if i + m < n:\n",
    "            for j in range(1, m):\n",
    "                A[i+m][i] = -1\n",
    "                A[i+m+j][i+j] = -1\n",
    "                A[i][i+m] = -1\n",
    "                A[i+j][i+m+j] = -1\n",
    "        for j in range(m):\n",
    "            A[i+j][i+j] = 4\n",
    "        for j in range(m-1):\n",
    "            A[i+j+1][i+j] = -1\n",
    "            A[i+j][i+j+1] = -1\n",
    "        i += m\n",
    "    return A\n",
    "\n",
    "def createMatrixb(m):\n",
    "    n = m * m\n",
    "    b = [[1] for x in range(n)]\n",
    "    return b"
   ]
  },
  {
   "cell_type": "code",
   "execution_count": 91,
   "metadata": {},
   "outputs": [],
   "source": [
    "def jacobiMethod(A, b, x=None):\n",
    "    if x is None:\n",
    "        x = np.zeros_like(b)\n",
    "    \n",
    "    D = np.diag(A)\n",
    "    R = A - np.diagflat(D)\n",
    "    \n",
    "    k = 1\n",
    "    while ((np.linalg.norm(b-(A.dot(x)), np.inf) > (1e-8)*np.linalg.norm(x, np.inf)) and k < 20000):\n",
    "        x = (b-np.dot(R,x)) / D\n",
    "        k += 1\n",
    "    return k\n",
    "\n",
    "def gaussSiedel(A, b, x=None):\n",
    "    [m, n] = np.shape(A)\n",
    "    \n",
    "    P, L, U = lu(A)\n",
    "    x = np.ones((m,1))\n",
    "    \n",
    "    k = 1\n",
    "    while ((np.linalg.norm(b-(A.dot(x)), np.inf) > (1e-8)*np.linalg.norm(x, np.inf)) and k < 20000):\n",
    "        x_new = np.dot(inv(L), (b-np.dot(U, x)))\n",
    "        x = x_new\n",
    "        k += 1\n",
    "    return k\n",
    "\n",
    "def sorMethod(A, b, x, omega):\n",
    "    phi = x[:]\n",
    "    k = 1\n",
    "    while ((np.linalg.norm(b-(A.dot(phi)), np.inf) > (1e-8)*np.linalg.norm(phi, np.inf)) and k < 20000):\n",
    "        for i in range(A.shape[0]):\n",
    "            sigma = 0\n",
    "            for j in range(A.shape[1]):\n",
    "                if j != i:\n",
    "                    sigma += A[i][j] * phi[j]\n",
    "            phi[i] = (1 - omega) * phi[i] + (omega / A[i][i]) * (b[i] - sigma)\n",
    "        k += 1\n",
    "    return k\n",
    "    "
   ]
  },
  {
   "cell_type": "code",
   "execution_count": 98,
   "metadata": {},
   "outputs": [
    {
     "ename": "KeyboardInterrupt",
     "evalue": "",
     "output_type": "error",
     "traceback": [
      "\u001b[0;31m---------------------------------------------------------------------------\u001b[0m",
      "\u001b[0;31mKeyboardInterrupt\u001b[0m                         Traceback (most recent call last)",
      "\u001b[0;32m<ipython-input-98-f1d101eb6b53>\u001b[0m in \u001b[0;36m<module>\u001b[0;34m\u001b[0m\n\u001b[1;32m      7\u001b[0m     \u001b[0mA\u001b[0m \u001b[0;34m=\u001b[0m \u001b[0mnp\u001b[0m\u001b[0;34m.\u001b[0m\u001b[0marray\u001b[0m\u001b[0;34m(\u001b[0m\u001b[0mcreateMatrixA\u001b[0m\u001b[0;34m(\u001b[0m\u001b[0mm\u001b[0m\u001b[0;34m)\u001b[0m\u001b[0;34m)\u001b[0m\u001b[0;34m\u001b[0m\u001b[0;34m\u001b[0m\u001b[0m\n\u001b[1;32m      8\u001b[0m     \u001b[0mb\u001b[0m \u001b[0;34m=\u001b[0m \u001b[0mnp\u001b[0m\u001b[0;34m.\u001b[0m\u001b[0marray\u001b[0m\u001b[0;34m(\u001b[0m\u001b[0mcreateMatrixb\u001b[0m\u001b[0;34m(\u001b[0m\u001b[0mm\u001b[0m\u001b[0;34m)\u001b[0m\u001b[0;34m)\u001b[0m\u001b[0;34m\u001b[0m\u001b[0;34m\u001b[0m\u001b[0m\n\u001b[0;32m----> 9\u001b[0;31m     \u001b[0mjacobiIterations\u001b[0m\u001b[0;34m.\u001b[0m\u001b[0mappend\u001b[0m\u001b[0;34m(\u001b[0m\u001b[0mjacobiMethod\u001b[0m\u001b[0;34m(\u001b[0m\u001b[0mA\u001b[0m\u001b[0;34m,\u001b[0m \u001b[0mb\u001b[0m\u001b[0;34m)\u001b[0m\u001b[0;34m)\u001b[0m\u001b[0;34m\u001b[0m\u001b[0;34m\u001b[0m\u001b[0m\n\u001b[0m\u001b[1;32m     10\u001b[0m     \u001b[0mgaussIterations\u001b[0m\u001b[0;34m.\u001b[0m\u001b[0mappend\u001b[0m\u001b[0;34m(\u001b[0m\u001b[0mgaussSiedel\u001b[0m\u001b[0;34m(\u001b[0m\u001b[0mA\u001b[0m\u001b[0;34m,\u001b[0m \u001b[0mb\u001b[0m\u001b[0;34m)\u001b[0m\u001b[0;34m)\u001b[0m\u001b[0;34m\u001b[0m\u001b[0;34m\u001b[0m\u001b[0m\n\u001b[1;32m     11\u001b[0m     \u001b[0mh\u001b[0m \u001b[0;34m=\u001b[0m \u001b[0;36m1\u001b[0m \u001b[0;34m/\u001b[0m \u001b[0;34m(\u001b[0m\u001b[0mm\u001b[0m \u001b[0;34m+\u001b[0m \u001b[0;36m1\u001b[0m\u001b[0;34m)\u001b[0m\u001b[0;34m\u001b[0m\u001b[0;34m\u001b[0m\u001b[0m\n",
      "\u001b[0;32m<ipython-input-91-7db591a949b3>\u001b[0m in \u001b[0;36mjacobiMethod\u001b[0;34m(A, b, x)\u001b[0m\n\u001b[1;32m      8\u001b[0m     \u001b[0mk\u001b[0m \u001b[0;34m=\u001b[0m \u001b[0;36m1\u001b[0m\u001b[0;34m\u001b[0m\u001b[0;34m\u001b[0m\u001b[0m\n\u001b[1;32m      9\u001b[0m     \u001b[0;32mwhile\u001b[0m \u001b[0;34m(\u001b[0m\u001b[0;34m(\u001b[0m\u001b[0mnp\u001b[0m\u001b[0;34m.\u001b[0m\u001b[0mlinalg\u001b[0m\u001b[0;34m.\u001b[0m\u001b[0mnorm\u001b[0m\u001b[0;34m(\u001b[0m\u001b[0mb\u001b[0m\u001b[0;34m-\u001b[0m\u001b[0;34m(\u001b[0m\u001b[0mA\u001b[0m\u001b[0;34m.\u001b[0m\u001b[0mdot\u001b[0m\u001b[0;34m(\u001b[0m\u001b[0mx\u001b[0m\u001b[0;34m)\u001b[0m\u001b[0;34m)\u001b[0m\u001b[0;34m,\u001b[0m \u001b[0mnp\u001b[0m\u001b[0;34m.\u001b[0m\u001b[0minf\u001b[0m\u001b[0;34m)\u001b[0m \u001b[0;34m>\u001b[0m \u001b[0;34m(\u001b[0m\u001b[0;36m1e-8\u001b[0m\u001b[0;34m)\u001b[0m\u001b[0;34m*\u001b[0m\u001b[0mnp\u001b[0m\u001b[0;34m.\u001b[0m\u001b[0mlinalg\u001b[0m\u001b[0;34m.\u001b[0m\u001b[0mnorm\u001b[0m\u001b[0;34m(\u001b[0m\u001b[0mx\u001b[0m\u001b[0;34m,\u001b[0m \u001b[0mnp\u001b[0m\u001b[0;34m.\u001b[0m\u001b[0minf\u001b[0m\u001b[0;34m)\u001b[0m\u001b[0;34m)\u001b[0m \u001b[0;32mand\u001b[0m \u001b[0mk\u001b[0m \u001b[0;34m<\u001b[0m \u001b[0;36m20000\u001b[0m\u001b[0;34m)\u001b[0m\u001b[0;34m:\u001b[0m\u001b[0;34m\u001b[0m\u001b[0;34m\u001b[0m\u001b[0m\n\u001b[0;32m---> 10\u001b[0;31m         \u001b[0mx\u001b[0m \u001b[0;34m=\u001b[0m \u001b[0;34m(\u001b[0m\u001b[0mb\u001b[0m\u001b[0;34m-\u001b[0m\u001b[0mnp\u001b[0m\u001b[0;34m.\u001b[0m\u001b[0mdot\u001b[0m\u001b[0;34m(\u001b[0m\u001b[0mR\u001b[0m\u001b[0;34m,\u001b[0m\u001b[0mx\u001b[0m\u001b[0;34m)\u001b[0m\u001b[0;34m)\u001b[0m \u001b[0;34m/\u001b[0m \u001b[0mD\u001b[0m\u001b[0;34m\u001b[0m\u001b[0;34m\u001b[0m\u001b[0m\n\u001b[0m\u001b[1;32m     11\u001b[0m         \u001b[0mk\u001b[0m \u001b[0;34m+=\u001b[0m \u001b[0;36m1\u001b[0m\u001b[0;34m\u001b[0m\u001b[0;34m\u001b[0m\u001b[0m\n\u001b[1;32m     12\u001b[0m     \u001b[0;32mreturn\u001b[0m \u001b[0mk\u001b[0m\u001b[0;34m\u001b[0m\u001b[0;34m\u001b[0m\u001b[0m\n",
      "\u001b[0;32m<__array_function__ internals>\u001b[0m in \u001b[0;36mdot\u001b[0;34m(*args, **kwargs)\u001b[0m\n",
      "\u001b[0;31mKeyboardInterrupt\u001b[0m: "
     ]
    }
   ],
   "source": [
    "m_vals = [2**k for k in range(1,7)]\n",
    "jacobiIterations = []\n",
    "gaussIterations = []\n",
    "sorIterations = []\n",
    "    \n",
    "for m in m_vals:\n",
    "    A = np.array(createMatrixA(m))\n",
    "    b = np.array(createMatrixb(m))\n",
    "    jacobiIterations.append(jacobiMethod(A, b))\n",
    "    gaussIterations.append(gaussSiedel(A, b))\n",
    "    h = 1 / (m + 1)\n",
    "    sprJ = cos(pi*h)\n",
    "    omega = 2 / (1 + sqrt(1-(sprJ**2)))\n",
    "    sorIterations.append(sorMethod(A, b, np.zeros(m*m), omega))\n",
    "\n",
    "print(\"m values: {}\".format(m_vals))\n",
    "print(\"\\n\" + \"Iterations as a funciton of m\")\n",
    "print(\"Jacobi Method: {}\".format(jacobiIterations))\n",
    "print(\"Gauss-Siedel Method: {}\".format(gaussIterations))\n",
    "print(\"SOR Method: {}\".format(sorIterations))\n",
    "\n",
    "    "
   ]
  },
  {
   "cell_type": "code",
   "execution_count": null,
   "metadata": {},
   "outputs": [],
   "source": []
  }
 ],
 "metadata": {
  "kernelspec": {
   "display_name": "Python 3",
   "language": "python",
   "name": "python3"
  },
  "language_info": {
   "codemirror_mode": {
    "name": "ipython",
    "version": 3
   },
   "file_extension": ".py",
   "mimetype": "text/x-python",
   "name": "python",
   "nbconvert_exporter": "python",
   "pygments_lexer": "ipython3",
   "version": "3.7.6"
  }
 },
 "nbformat": 4,
 "nbformat_minor": 4
}
