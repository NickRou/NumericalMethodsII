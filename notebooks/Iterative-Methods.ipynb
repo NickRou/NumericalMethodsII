{
 "cells": [
  {
   "cell_type": "code",
   "execution_count": 12,
   "metadata": {},
   "outputs": [],
   "source": [
    "\"\"\"\n",
    "Q1: For which of these matrices (A1, A2) does the jacobi iteration and Gauss-Siedel method converge?\n",
    "\"\"\"\n",
    "import numpy as np\n",
    "from scipy.linalg import inv, lu"
   ]
  },
  {
   "cell_type": "code",
   "execution_count": 8,
   "metadata": {},
   "outputs": [],
   "source": [
    "A1 = [[2,-1,2],[1,2,-2],[2,2,2]]\n",
    "A2 = [[5,5,0],[-1,5,4],[2,3,8]]"
   ]
  },
  {
   "cell_type": "code",
   "execution_count": 24,
   "metadata": {},
   "outputs": [],
   "source": [
    "\"\"\"\n",
    "Convergence Tests: Every eigenvalue of M=I-P^-1A must have |eigen(M)| < 1\n",
    "Jacobi Iteration: P = diagonal part D of A\n",
    "Gauss-Siedel: P = Lower Triangular part of A\n",
    "\"\"\"\n",
    "def jacobiConvergence(A):\n",
    "    m, n = len(A), len(A[0])\n",
    "    \n",
    "    #constuct Diagonal and Identity matrix\n",
    "    D = [[0 for x in range(n)] for y in range(m)]\n",
    "    I = [[0 for x in range(n)] for y in range(m)]\n",
    "    for x in range(m):\n",
    "        D[x][x] = A[x][x]\n",
    "        I[x][x] = 1\n",
    "        \n",
    "    #turn into numpy arrays\n",
    "    A = np.array(A)\n",
    "    D = np.array(D)\n",
    "    I = np.array(I)\n",
    "    \n",
    "    M = I - (inv(D).dot(A))\n",
    "    \n",
    "    w, v = np.linalg.eig(M)\n",
    "    \n",
    "    for eigen_val in w: \n",
    "        if (abs(eigen_val) >= 1):\n",
    "            print(\"Does not converge\")\n",
    "            return\n",
    "    print(\"Converges\")\n",
    "\n",
    "def guasssiedelConvergence(A):\n",
    "    m, n = len(A), len(A[0])\n",
    "    \n",
    "    #construct L and Identity matrix\n",
    "    P, L, U = lu(A)\n",
    "    I = [[0 for x in range(n)] for y in range(m)]\n",
    "    for x in range(m):\n",
    "        I[x][x] = 1\n",
    "        \n",
    "    M = I - (inv(L).dot(A))\n",
    "    \n",
    "    w, v = np.linalg.eig(M)\n",
    "    \n",
    "    for eigen_val in w: \n",
    "        if (abs(eigen_val) >= 1):\n",
    "            print(\"Does not converge\")\n",
    "            return\n",
    "    print(\"Converges\")"
   ]
  },
  {
   "cell_type": "code",
   "execution_count": 25,
   "metadata": {},
   "outputs": [
    {
     "name": "stdout",
     "output_type": "stream",
     "text": [
      "Testing Matrix A1\n",
      "Jacobi Iteration\n",
      "Does not converge\n",
      "Gauss-Siedel\n",
      "Does not converge\n",
      "\n",
      "\n",
      "Testing Matrix A2\n",
      "Jacobi Iteration\n",
      "Converges\n",
      "Gauss-Siedel\n",
      "Does not converge\n"
     ]
    }
   ],
   "source": [
    "print(\"Testing Matrix A1\")\n",
    "print(\"Jacobi Iteration\")\n",
    "jacobiConvergence(A1)\n",
    "print(\"Gauss-Siedel\")\n",
    "guasssiedelConvergence(A1)\n",
    "print(\"\\n\")\n",
    "print(\"Testing Matrix A2\")\n",
    "print(\"Jacobi Iteration\")\n",
    "jacobiConvergence(A2)\n",
    "print(\"Gauss-Siedel\")\n",
    "guasssiedelConvergence(A2)"
   ]
  },
  {
   "cell_type": "code",
   "execution_count": 65,
   "metadata": {},
   "outputs": [],
   "source": [
    "\"\"\"\n",
    "QII: Consider two different fixed-pt iterations to compute the inverse of a regular matrix A(nxn)\n",
    "     starting from an initial value X(0)\n",
    "     (1) X^k = X^k-1(I-AC)+C, k=1,2....\n",
    "     (2) X^k = X^k-1(2I-AX^k-1)\n",
    "\"\"\"\n",
    "A = np.array([[1,2,3],[4,5,6],[7,8,10]])\n",
    "C = np.array([[-0.5,-1.5,1],[-0.5,3.7,-2],[1,-2,1]])\n",
    "I = [[0 for x in range(3)] for y in range(3)]\n",
    "for x in range(m):\n",
    "    I[x][x] = 1\n",
    "I = np.array(I)"
   ]
  },
  {
   "cell_type": "code",
   "execution_count": 67,
   "metadata": {},
   "outputs": [
    {
     "name": "stdout",
     "output_type": "stream",
     "text": [
      "Does not converge\n"
     ]
    }
   ],
   "source": [
    "\"\"\"\n",
    "(a) What are sufficient conditions for convergence for these iterations?\n",
    "    What convergence order do you expect?\n",
    "    \n",
    "converges for any initial value X0 iff max|eigen value| < 1\n",
    "r = spr(I-C^-1A)\n",
    "convergence order is linear ||x^k+1-x|| <= r ||x^k - x||\n",
    "\"\"\"\n",
    "def testConvergence():\n",
    "    matrix = I-(inv(C).dot(A))\n",
    "    w, v = np.linalg.eig(matrix)\n",
    "    for eigen_val in w: \n",
    "        if (abs(eigen_val) >= 1):\n",
    "            print(\"Does not converge\")\n",
    "            return\n",
    "    print(\"Converges\") \n",
    "\n",
    "testConvergence()"
   ]
  },
  {
   "cell_type": "code",
   "execution_count": 62,
   "metadata": {},
   "outputs": [],
   "source": [
    "\"\"\"\n",
    "(b) X^0 = I and X^0 = C\n",
    "\"\"\"\n",
    "def fixedPtIterations(A, C):    \n",
    "    print(\"Inverse of A\")\n",
    "    print(inv(A))\n",
    "    print(\"\\n\")\n",
    "\n",
    "\n",
    "    def iterate(X0, start, end):\n",
    "        print(\"Fixed-point iteration: X^k = X^k-1(I-AC)+C\")\n",
    "        X = X0\n",
    "        k = start\n",
    "        while (k <= end):\n",
    "            X = X.dot((I-A.dot(C))) + C\n",
    "            k += 1\n",
    "        print(X)\n",
    "        \n",
    "        print(\"Fixed-point iteration: X^k = X^k-1(2I-AX^k-1)\")\n",
    "        X = X0\n",
    "        k = start\n",
    "        while (k <= end):\n",
    "            X = X.dot((2*I)-(A.dot(X)))\n",
    "            k += 1\n",
    "        print(X)\n",
    "    \n",
    "    #testing with initial value X0 = I\n",
    "    print(\"Initial value X0 = I\")\n",
    "    iterate(I, 1, 100)\n",
    "    print(\"\\n\")\n",
    "    #testing with initial value X0 = C\n",
    "    print(\"Initial value X0 = C\")\n",
    "    iterate(C, 1, 100)"
   ]
  },
  {
   "cell_type": "code",
   "execution_count": 63,
   "metadata": {},
   "outputs": [
    {
     "name": "stdout",
     "output_type": "stream",
     "text": [
      "Inverse of A\n",
      "[[-0.66666667 -1.33333333  1.        ]\n",
      " [-0.66666667  3.66666667 -2.        ]\n",
      " [ 1.         -2.          1.        ]]\n",
      "\n",
      "\n",
      "Initial value X0 = I\n",
      "Fixed-point iteration: X^k = X^k-1(I-AC)+C\n",
      "[[-0.66666667 -1.33333333  1.        ]\n",
      " [-0.66666667  3.66666667 -2.        ]\n",
      " [ 1.         -2.          1.        ]]\n",
      "Fixed-point iteration: X^k = X^k-1(2I-AX^k-1)\n",
      "[[ 8843455372529952213 -3452570626832749044 -5898025103523347754]\n",
      " [-7384587362514980880 -8963119298963511455  7609586084361821692]\n",
      " [ 5004316238054728718  3837384718296084120 -8530989198807102521]]\n",
      "\n",
      "\n",
      "Initial value X0 = C\n",
      "Fixed-point iteration: X^k = X^k-1(I-AC)+C\n",
      "[[-0.66666667 -1.33333333  1.        ]\n",
      " [-0.66666667  3.66666667 -2.        ]\n",
      " [ 1.         -2.          1.        ]]\n",
      "Fixed-point iteration: X^k = X^k-1(2I-AX^k-1)\n",
      "[[-0.66666667 -1.33333333  1.        ]\n",
      " [-0.66666667  3.66666667 -2.        ]\n",
      " [ 1.         -2.          1.        ]]\n"
     ]
    }
   ],
   "source": [
    "fixedPtIterations(A, C)"
   ]
  },
  {
   "cell_type": "code",
   "execution_count": null,
   "metadata": {},
   "outputs": [],
   "source": []
  }
 ],
 "metadata": {
  "kernelspec": {
   "display_name": "Python 3",
   "language": "python",
   "name": "python3"
  },
  "language_info": {
   "codemirror_mode": {
    "name": "ipython",
    "version": 3
   },
   "file_extension": ".py",
   "mimetype": "text/x-python",
   "name": "python",
   "nbconvert_exporter": "python",
   "pygments_lexer": "ipython3",
   "version": "3.7.6"
  }
 },
 "nbformat": 4,
 "nbformat_minor": 4
}
