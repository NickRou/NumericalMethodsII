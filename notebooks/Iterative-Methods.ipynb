{
 "cells": [
  {
   "cell_type": "code",
   "execution_count": 9,
   "metadata": {},
   "outputs": [],
   "source": [
    "\"\"\"\n",
    "Q1: For which of these matrices (A1, A2) does the jacobi iteration and Gauss-Siedel method converge?\n",
    "\"\"\"\n",
    "import numpy as np\n",
    "from scipy.linalg import inv, lu"
   ]
  },
  {
   "cell_type": "code",
   "execution_count": 8,
   "metadata": {},
   "outputs": [],
   "source": [
    "A1 = [[2,-1,2],[1,2,-2],[2,2,2]]\n",
    "A2 = [[5,5,0],[-1,5,4],[2,3,8]]"
   ]
  },
  {
   "cell_type": "code",
   "execution_count": 24,
   "metadata": {},
   "outputs": [],
   "source": [
    "\"\"\"\n",
    "Convergence Tests: Every eigenvalue of M=I-P^-1A must have |eigen(M)| < 1\n",
    "Jacobi Iteration: P = diagonal part D of A\n",
    "Gauss-Siedel: P = Lower Triangular part of A\n",
    "\"\"\"\n",
    "def jacobiConvergence(A):\n",
    "    m, n = len(A), len(A[0])\n",
    "    \n",
    "    #constuct Diagonal and Identity matrix\n",
    "    D = [[0 for x in range(n)] for y in range(m)]\n",
    "    I = [[0 for x in range(n)] for y in range(m)]\n",
    "    for x in range(m):\n",
    "        D[x][x] = A[x][x]\n",
    "        I[x][x] = 1\n",
    "        \n",
    "    #turn into numpy arrays\n",
    "    A = np.array(A)\n",
    "    D = np.array(D)\n",
    "    I = np.array(I)\n",
    "    \n",
    "    M = I - (inv(D).dot(A))\n",
    "    \n",
    "    w, v = np.linalg.eig(M)\n",
    "    \n",
    "    for eigen_val in w: \n",
    "        if (abs(eigen_val) >= 1):\n",
    "            print(\"Does not converge\")\n",
    "            return\n",
    "    print(\"Converges\")\n",
    "\n",
    "def guasssiedelConvergence(A):\n",
    "    m, n = len(A), len(A[0])\n",
    "    \n",
    "    #construct L and Identity matrix\n",
    "    P, L, U = lu(A)\n",
    "    I = [[0 for x in range(n)] for y in range(m)]\n",
    "    for x in range(m):\n",
    "        I[x][x] = 1\n",
    "        \n",
    "    M = I - (inv(L).dot(A))\n",
    "    \n",
    "    w, v = np.linalg.eig(M)\n",
    "    \n",
    "    for eigen_val in w: \n",
    "        if (abs(eigen_val) >= 1):\n",
    "            print(\"Does not converge\")\n",
    "            return\n",
    "    print(\"Converges\")"
   ]
  },
  {
   "cell_type": "code",
   "execution_count": 25,
   "metadata": {},
   "outputs": [
    {
     "name": "stdout",
     "output_type": "stream",
     "text": [
      "Testing Matrix A1\n",
      "Jacobi Iteration\n",
      "Does not converge\n",
      "Gauss-Siedel\n",
      "Does not converge\n",
      "\n",
      "\n",
      "Testing Matrix A2\n",
      "Jacobi Iteration\n",
      "Converges\n",
      "Gauss-Siedel\n",
      "Does not converge\n"
     ]
    }
   ],
   "source": [
    "print(\"Testing Matrix A1\")\n",
    "print(\"Jacobi Iteration\")\n",
    "jacobiConvergence(A1)\n",
    "print(\"Gauss-Siedel\")\n",
    "guasssiedelConvergence(A1)\n",
    "print(\"\\n\")\n",
    "print(\"Testing Matrix A2\")\n",
    "print(\"Jacobi Iteration\")\n",
    "jacobiConvergence(A2)\n",
    "print(\"Gauss-Siedel\")\n",
    "guasssiedelConvergence(A2)"
   ]
  },
  {
   "cell_type": "code",
   "execution_count": null,
   "metadata": {},
   "outputs": [],
   "source": []
  }
 ],
 "metadata": {
  "kernelspec": {
   "display_name": "Python 3",
   "language": "python",
   "name": "python3"
  },
  "language_info": {
   "codemirror_mode": {
    "name": "ipython",
    "version": 3
   },
   "file_extension": ".py",
   "mimetype": "text/x-python",
   "name": "python",
   "nbconvert_exporter": "python",
   "pygments_lexer": "ipython3",
   "version": "3.7.6"
  }
 },
 "nbformat": 4,
 "nbformat_minor": 4
}
