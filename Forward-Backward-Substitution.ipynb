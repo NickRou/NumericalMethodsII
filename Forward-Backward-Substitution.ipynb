{
 "cells": [
  {
   "cell_type": "code",
   "execution_count": 66,
   "metadata": {},
   "outputs": [],
   "source": [
    "\"\"\"\n",
    "Question III\n",
    "(a) Forward Substitution and Backward Substituion to solve Ax=b system\n",
    "A = m-dependent matrix\n",
    "b = [1,...,1]T\n",
    "\"\"\"\n",
    "from scipy.linalg import inv, lu\n",
    "import numpy as np"
   ]
  },
  {
   "cell_type": "code",
   "execution_count": 45,
   "metadata": {},
   "outputs": [],
   "source": [
    "def createMatrixA(m):\n",
    "    n = m * m \n",
    "    A = [[0 for x in range(n)] for y in range(n)]\n",
    "    i = 0\n",
    "    while i < n:\n",
    "        if i + m < n:\n",
    "            for j in range(1, m):\n",
    "                A[i+m][i] = -1\n",
    "                A[i+m+j][i+j] = -1\n",
    "                A[i][i+m] = -1\n",
    "                A[i+j][i+m+j] = -1\n",
    "        for j in range(m):\n",
    "            A[i+j][i+j] = 4\n",
    "        for j in range(m-1):\n",
    "            A[i+j+1][i+j] = -1\n",
    "            A[i+j][i+j+1] = -1\n",
    "        i += m\n",
    "    return A\n",
    "\n",
    "def createMatrixb(m):\n",
    "    n = m * m\n",
    "    b = [[1] for x in range(n)]\n",
    "    return b"
   ]
  },
  {
   "cell_type": "code",
   "execution_count": 71,
   "metadata": {
    "scrolled": false
   },
   "outputs": [],
   "source": [
    "\"\"\"forward and backward sub to solve the system Ax=b\"\"\"\n",
    "m = 3\n",
    "A = np.array(createMatrixA(m))\n",
    "b = np.array(createMatrixb(m))\n",
    "\n",
    "P, L, U = lu(A)\n",
    "\n",
    "y = inv(L).dot(b)\n",
    "x = inv(U).dot(y)"
   ]
  },
  {
   "cell_type": "code",
   "execution_count": 78,
   "metadata": {},
   "outputs": [
    {
     "name": "stdout",
     "output_type": "stream",
     "text": [
      "m: 2\n",
      "||b-Ax||: [4.19082356e-31]\n",
      "m: 3\n",
      "||b-Ax||: [1.65167752e-30]\n",
      "m: 4\n",
      "||b-Ax||: [1.53827877e-29]\n",
      "m: 5\n",
      "||b-Ax||: [2.7030812e-29]\n",
      "m: 10\n",
      "||b-Ax||: [4.83985887e-27]\n"
     ]
    }
   ],
   "source": [
    "\"\"\"(b) Computing the residual r = b-Ax for increasing m\"\"\"\n",
    "mVals = [2, 3, 4, 5, 10]\n",
    "for m in mVals:\n",
    "    A = np.array(createMatrixA(m))\n",
    "    b = np.array(createMatrixb(m))\n",
    "    P, L, U = lu(A)\n",
    "    y = inv(L).dot(b)\n",
    "    x = inv(U).dot(y)\n",
    "    r = b - A.dot(x)\n",
    "    err_mag = 0\n",
    "    for err in r: \n",
    "        err_mag += err ** 2\n",
    "    print(\"m: \" + str(m))\n",
    "    print(\"||b-Ax||: \" + str(err_mag))\n",
    "    "
   ]
  },
  {
   "cell_type": "code",
   "execution_count": null,
   "metadata": {},
   "outputs": [],
   "source": []
  }
 ],
 "metadata": {
  "kernelspec": {
   "display_name": "Python 3",
   "language": "python",
   "name": "python3"
  },
  "language_info": {
   "codemirror_mode": {
    "name": "ipython",
    "version": 3
   },
   "file_extension": ".py",
   "mimetype": "text/x-python",
   "name": "python",
   "nbconvert_exporter": "python",
   "pygments_lexer": "ipython3",
   "version": "3.7.6"
  }
 },
 "nbformat": 4,
 "nbformat_minor": 4
}
